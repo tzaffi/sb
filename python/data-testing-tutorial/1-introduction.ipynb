{
 "cells": [
  {
   "cell_type": "markdown",
   "metadata": {},
   "source": [
    "# Best Testing Practices for Data Science\n",
    "\n",
    "A short tutorial for data scientists on how to write tests for your code and your data. Before the tutorial, please read through this README file, for it contains a lot of useful information that will help you best prepare for the tutorial.\n",
    "\n",
    "## How to use this repository\n",
    "\n",
    "The tutorial notes are typed up in Jupyter notebooks, and static HTML versions are available under the [`docs`](./docs/) folder. For the non-bonus material, I suggest working through the notes in order. With the exception of the Projects, the bonus material can be tackled in any order. During the tutorial, be sure to have the HTML versions open.\n",
    "\n",
    "## Pre-Requisite Knowledge\n",
    "\n",
    "I am assuming you are of the following type of coder:\n",
    "\n",
    "- You are a data analytics type, who knows how to read/write CSV files with Pandas, and do basic data manipulation (slicing, indexing rows + columns, using the `.apply()` function).\n",
    "- You are not necessarily a seasoned software developer who has experience running tests.\n",
    "- You are comfortable with operating in the Terminal environment.\n",
    "- You have some rudimentary knowledge of `numpy`, particularly the the `array.min()`, `array.max()`, `array.mean()`, `array.std()`, and `numpy.allclose(a1, a2)` function calls.\n",
    "\n",
    "In order to prepare for the tutorial, there are some pieces of Python syntax that will come in handy to know:\n",
    "- the context manager syntax (`with ....`),\n",
    "- assertions (`assert conditions1 == condition2`),\n",
    "- file I/O (`with open(....) as f:...`),\n",
    "- list/dict/tuple comprehensions (`[a for a in container if condition(a)]`),\n",
    "- checking types & attributes (`isinstance(obj, type) or hasattr(obj, attr)`).\n",
    "\n",
    "## Feedback\n",
    "\n",
    "If you've taken a version of this tutorial, please leave feedback [here](https://ericma1.typeform.com/to/Ua0LBs). I use the suggestions in there to adjust the tutorial content and make it better. The changes are always released publicly on GitHub, so everybody benefits!\n",
    "\n",
    "# Environment Setup\n",
    "\n",
    "## `conda` setup\n",
    "\n",
    "This installation route should work cross-platform. I recommend using the [Anaconda distribution](https://www.continuum.io/downloads) of Python because it is a good way to bootstrap your data science environment.\n",
    "\n",
    "To get setup, create a `conda` environment based on the provided [`environment.yml`](./environment.yml) spec file. Run the following commands in your bash terminal.\n",
    "\n",
    "```bash\n",
    "$ bash conda-setup.sh\n",
    "```\n",
    "\n",
    "## `pip` setup\n",
    "\n",
    "The alternative way is to use a virtualenv environment:\n",
    "\n",
    "```bash\n",
    "$ bash venv-setup.sh\n",
    "$ source datatest/bin/activate\n",
    "```\n",
    "\n",
    "Alternatively, you can `pip` install each of the dependencies listed in the `environment.yml` file. (The `requirements.txt` file may be less eagerly maintained than the `environment.yml` file, given the `conda`-biases that I have.)\n",
    "\n",
    "## Manual Setup\n",
    "\n",
    "If you prefer having more control over your installation process, `conda` or `pip` install the dependencies listed in the `environment.yml` file.\n",
    "\n",
    "## Checks\n",
    "\n",
    "To check whether the environment is correctly setup, run the `checkenv.py` script:\n",
    "\n",
    "```bash\n",
    "$ python checkenv.py\n",
    "```\n",
    "\n",
    "It should print to your terminal, `All packages found; environment checks passed.`. Otherwise, `conda` or `pip` install the necessary packages stated (they will show up one by one).\n",
    "\n",
    "# Authors\n",
    "\n",
    "- [Eric J. Ma](http://www.ericmjl.com)\n",
    "\n",
    "# Contributors\n",
    "\n",
    "Special thanks goes to individuals who have contributed in ways big and small to the improvement of the material.\n",
    "\n",
    "- Renee Chu\n",
    "- Matt Bachmann: @Bachmann1234\n",
    "- Hugo Bowne-Anderson: @hugobowne\n",
    "- Boston Python tutorial attendees:\n",
    "    - @races1986\n",
    "    - Thao Nguyen: @ThaoNguyen15\n",
    "    - @ChrisMuir\n",
    "\n",
    "# Data Credits\n",
    "\n",
    "- [Divvy Data Set](https://www.divvybikes.com/data)\n",
    "- [Analyze Boston](https://data.boston.gov/)\n",
    "- Mia T. Lieberman for the sanitization dataset.\n"
   ]
  },
  {
   "cell_type": "markdown",
   "metadata": {
    "slideshow": {
     "slide_type": "slide"
    }
   },
   "source": [
    "# Best Data Testing Practices for Data Science\n",
    "\n",
    "Eric J. Ma\n",
    "\n",
    "MIT Biological Engineering"
   ]
  },
  {
   "cell_type": "markdown",
   "metadata": {
    "slideshow": {
     "slide_type": "slide"
    }
   },
   "source": [
    "# How to use these notebooks\n",
    "\n",
    "- Follow along with Jupyter notebooks in GitHub: [ericmjl/data-testing-tutorial](https://github.com/ericmjl/data-testing-tutorial)\n",
    "- Most of what we will do is in the terminal & your favourite text editor."
   ]
  },
  {
   "cell_type": "markdown",
   "metadata": {
    "slideshow": {
     "slide_type": "slide"
    }
   },
   "source": [
    "# Why tests?\n",
    "\n",
    "- We make assumptions about our code & data. \n",
    "- There are cases where those assumptions are violated.\n",
    "- Therefore, automated testing of those assumptions is important."
   ]
  },
  {
   "cell_type": "markdown",
   "metadata": {
    "slideshow": {
     "slide_type": "slide"
    }
   },
   "source": [
    "# Tests: A Definition\n",
    "\n",
    "> A contract between your current self and your future self.\n",
    "> What you expect to be right now should hold true in the future.\n",
    "> What you expect to be wrong now should still be wrong in the future.\n",
    "> Unless the requirements have changed!"
   ]
  },
  {
   "cell_type": "markdown",
   "metadata": {
    "slideshow": {
     "slide_type": "slide"
    }
   },
   "source": [
    "# Lets discuss!\n",
    "\n",
    "What needs to be tested for:\n",
    "\n",
    "- code?\n",
    "- data?\n",
    "- statistics?"
   ]
  },
  {
   "cell_type": "markdown",
   "metadata": {
    "slideshow": {
     "slide_type": "slide"
    }
   },
   "source": [
    "## For code, what needs to be tested?\n",
    "\n",
    "- Given some example input(s), the output is correct.\n",
    "- Counter-examples should show up as incorrect.\n",
    "- Boundary cases are accounted for using defensive programming.\n",
    "- All lines of stable code are subject to at least one test."
   ]
  },
  {
   "cell_type": "markdown",
   "metadata": {
    "slideshow": {
     "slide_type": "slide"
    }
   },
   "source": [
    "## For data, what needs to be tested?\n",
    "\n",
    "- Data types are appropriate. (Types)\n",
    "- Data has not been tampered with. (Integrity)\n",
    "- Missing values are accounted for. (Completeness)\n",
    "- Data schema is complete. (Structure)"
   ]
  },
  {
   "cell_type": "markdown",
   "metadata": {
    "slideshow": {
     "slide_type": "slide"
    }
   },
   "source": [
    "## For statistical analysis & ML, what else needs to be done?\n",
    "\n",
    "- Underlying distributions for real-valued (numeric; integer or floats) data.\n",
    "- Classifying data as categorical, ordinal, count, compositional, or continuous.\n",
    "- Categorical/ordinal values represented as strings should be converted to numerical representations."
   ]
  },
  {
   "cell_type": "markdown",
   "metadata": {
    "slideshow": {
     "slide_type": "slide"
    }
   },
   "source": [
    "## What you can expect\n",
    "\n",
    "### Coding\n",
    "\n",
    "- You'll be implementing only simple functions. Nothing complicated.\n",
    "- Sample solutions are in the `*_soln.py` files."
   ]
  },
  {
   "cell_type": "markdown",
   "metadata": {
    "slideshow": {
     "slide_type": "subslide"
    }
   },
   "source": [
    "### Tutorial Material\n",
    "\n",
    "- Covered with interspersed lectures.\n",
    "- Simple exercises designed to get you familiar with how to write tests.\n",
    "- Give you a set of tools + code to bootstrap testing for another project."
   ]
  },
  {
   "cell_type": "markdown",
   "metadata": {
    "slideshow": {
     "slide_type": "subslide"
    }
   },
   "source": [
    "### Bonus Material\n",
    "\n",
    "- Self-paced material for the final hour of the tutorial or at home.\n",
    "- More complex topics on the topic of testing.\n",
    "    - File integrity\n",
    "    - Test coverage\n",
    "    - Property-based tests\n",
    "- More superpowers for data testing!"
   ]
  },
  {
   "cell_type": "markdown",
   "metadata": {
    "slideshow": {
     "slide_type": "slide"
    }
   },
   "source": [
    "# Take-Homes\n",
    "\n",
    "- You'll get a ton of practice with [`pytest`](https://docs.pytest.org/en/latest/) and assertion statements.\n",
    "- You'll will be left with self-paced learning material for [`hypothesis`](https://hypothesis.readthedocs.io/en/latest/) to do property-based testing.\n",
    "- You will have a starter set of tools for writing tests for your code and data."
   ]
  },
  {
   "cell_type": "markdown",
   "metadata": {
    "slideshow": {
     "slide_type": "subslide"
    }
   },
   "source": [
    "**If anything, I want you to not be afraid to write a test.** If that's all you take back, this tutorial can be deemed a success."
   ]
  },
  {
   "cell_type": "markdown",
   "metadata": {
    "slideshow": {
     "slide_type": "slide"
    }
   },
   "source": [
    "# Let's get going!"
   ]
  }
 ],
 "metadata": {
  "celltoolbar": "Slideshow",
  "kernelspec": {
   "display_name": "Python 3",
   "language": "python",
   "name": "python3"
  },
  "language_info": {
   "codemirror_mode": {
    "name": "ipython",
    "version": 3
   },
   "file_extension": ".py",
   "mimetype": "text/x-python",
   "name": "python",
   "nbconvert_exporter": "python",
   "pygments_lexer": "ipython3",
   "version": "3.7.4"
  }
 },
 "nbformat": 4,
 "nbformat_minor": 2
}
